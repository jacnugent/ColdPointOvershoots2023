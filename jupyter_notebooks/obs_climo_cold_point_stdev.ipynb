{
 "cells": [
  {
   "cell_type": "markdown",
   "id": "9a03469a-3bad-4476-8c7d-c537cfc6dbb6",
   "metadata": {},
   "source": [
    "# Standard deviation of cold point height for each analysis region\n",
    "Get a sense of the 0.25° grid-scale variability!"
   ]
  },
  {
   "cell_type": "code",
   "execution_count": 1,
   "id": "7141d8fa-bf5f-4b95-9f9e-4ab39f1eec39",
   "metadata": {},
   "outputs": [],
   "source": [
    "import xarray as xr\n",
    "import numpy as np\n"
   ]
  },
  {
   "cell_type": "code",
   "execution_count": 2,
   "id": "e938055b-6d0c-4fab-948d-626112ce7703",
   "metadata": {},
   "outputs": [],
   "source": [
    "file_path = \"/work/bb1153/b380887/big_obs_climo/\"\n"
   ]
  },
  {
   "cell_type": "code",
   "execution_count": 24,
   "id": "17307eb0-330c-4ee3-8357-2044abde289c",
   "metadata": {},
   "outputs": [],
   "source": [
    "def get_stdev(season, year_list=[2007, 2008, 2009, 2010]):\n",
    "    \"\"\" Count total # of retrievals for all regions in a given season\n",
    "    \"\"\"\n",
    "    if season == \"DJF\":\n",
    "        region_list = [\"AMZ\", \"SPC1\", \"SPC2\", \"IOS\", \"ECP\"]\n",
    "    elif season == \"JJA\":\n",
    "        region_list = [\"AFR\", \"WPC\", \"IOE\", \"ECP\"]\n",
    "        \n",
    "    reg_stdev_list = [[]]*len(region_list)\n",
    "    \n",
    "    for i, region in enumerate(region_list):\n",
    "        if region == \"SPC1\":\n",
    "            ds_list_1 = [xr.open_dataset(file_path + \"{s}/DARDAR_cp_relative_iwc_{s}{y}_SPC1.nc\".format(s=season, y=year))\n",
    "                       for year in year_list]      \n",
    "            ds_list_2 = [xr.open_dataset(file_path + \"{s}/DARDAR_cp_relative_iwc_{s}{y}_SPC2.nc\".format(s=season, y=year))\n",
    "                       for year in year_list]  \n",
    "            ds_list = [*ds_list_1, *ds_list_2]\n",
    "        elif region == \"SPC2\":\n",
    "            pass\n",
    "        else:\n",
    "            ds_list = [xr.open_dataset(file_path + \"{s}/DARDAR_cp_relative_iwc_{s}{y}_{r}.nc\".format(s=season, y=year, r=region))\n",
    "                       for year in year_list]\n",
    "        ds_all = xr.concat([ds[\"height_cp\"] for ds in ds_list], dim=\"time\")\n",
    "        reg_stdev_list[i] = ds_all.std().values\n",
    "\n",
    "        if region != \"SPC2\":\n",
    "            if region == \"SPC1\":\n",
    "                print(\"SPC\", \"{:.1f} m\".format(reg_stdev_list[i]))\n",
    "            else:\n",
    "                print(region, \"{:.1f} m\".format(reg_stdev_list[i]))\n",
    "\n",
    "        \n",
    "    print(\"\\n{s} average is {v:.1f} m\".format(s=season, v=np.mean(reg_stdev_list)))\n",
    "    \n",
    "    return dict(zip(region_list, reg_stdev_list))\n"
   ]
  },
  {
   "cell_type": "code",
   "execution_count": 25,
   "id": "50438245-8937-4a88-ac33-c795c59ebf55",
   "metadata": {},
   "outputs": [
    {
     "name": "stdout",
     "output_type": "stream",
     "text": [
      "AMZ 584.4 m\n",
      "SPC 567.6 m\n",
      "IOS 605.4 m\n",
      "ECP 624.9 m\n",
      "\n",
      "DJF average is 590.0 m\n"
     ]
    }
   ],
   "source": [
    "dict_djf = get_stdev(\"DJF\")\n"
   ]
  },
  {
   "cell_type": "code",
   "execution_count": 26,
   "id": "c0230436-bc74-4c76-a222-71c3ffb9ac2f",
   "metadata": {},
   "outputs": [
    {
     "name": "stdout",
     "output_type": "stream",
     "text": [
      "AFR 633.6 m\n",
      "WPC 594.2 m\n",
      "IOE 728.2 m\n",
      "ECP 594.5 m\n",
      "\n",
      "JJA average is 637.6 m\n"
     ]
    }
   ],
   "source": [
    "dict_jja = get_stdev(\"JJA\")\n"
   ]
  },
  {
   "cell_type": "code",
   "execution_count": null,
   "id": "cd2a8294-8ffb-477e-b215-af912dea5122",
   "metadata": {},
   "outputs": [],
   "source": []
  }
 ],
 "metadata": {
  "kernelspec": {
   "display_name": "dyamond2 kernel",
   "language": "python",
   "name": "d2env"
  },
  "language_info": {
   "codemirror_mode": {
    "name": "ipython",
    "version": 3
   },
   "file_extension": ".py",
   "mimetype": "text/x-python",
   "name": "python",
   "nbconvert_exporter": "python",
   "pygments_lexer": "ipython3",
   "version": "3.10.4"
  }
 },
 "nbformat": 4,
 "nbformat_minor": 5
}
