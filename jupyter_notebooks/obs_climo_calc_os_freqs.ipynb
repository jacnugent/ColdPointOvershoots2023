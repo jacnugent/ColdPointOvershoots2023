{
 "cells": [
  {
   "cell_type": "markdown",
   "id": "40837fa0-5da2-4388-bba8-e88951998a45",
   "metadata": {
    "tags": []
   },
   "source": [
    "# Calculate overshooting frequencies at each grid point for the obs climo\n",
    "#### Get the frequencies for Tb <= local cpT ~~Tb <= threshold and Tb <= cpT~~\n",
    "First need to get the concatenated Tb files (using cdo) from `cat_Tb_cpT_time.sh` ~~`cat_Tb_time.sh`~~\n"
   ]
  },
  {
   "cell_type": "code",
   "execution_count": 1,
   "id": "3b23a631-138c-4366-994f-fea35d39adcc",
   "metadata": {},
   "outputs": [],
   "source": [
    "import dask\n",
    "import numpy as np\n",
    "import xarray as xr\n",
    "\n",
    "from dask.diagnostics import ProgressBar\n"
   ]
  },
  {
   "cell_type": "code",
   "execution_count": 2,
   "id": "786f19fa-72e1-4353-8494-f047c5fcc993",
   "metadata": {},
   "outputs": [],
   "source": [
    "file_path = \"/work/bb1153/b380887/big_obs_climo/\"\n",
    "scratch_path = \"/scratch/b/b380887/\"\n"
   ]
  },
  {
   "cell_type": "code",
   "execution_count": 3,
   "id": "ee080949-fe8e-4e8f-9e8b-6d50ef6fd614",
   "metadata": {},
   "outputs": [],
   "source": [
    "season = \"JJA\"\n",
    "years_str = \"2007-2010\"\n"
   ]
  },
  {
   "cell_type": "code",
   "execution_count": 4,
   "id": "6e30d0c0-352a-448b-89d2-aacc45e00c38",
   "metadata": {},
   "outputs": [],
   "source": [
    "if season == \"DJF\":\n",
    "    region_list = [\"AMZ\", \"SPC1\", \"SPC2\", \"ECP\", \"IOS\"] \n",
    "\n",
    "elif season == \"JJA\":\n",
    "    region_list = [\"AFR\", \"WPC\", \"ECP\", \"IOE\"]\n"
   ]
  },
  {
   "cell_type": "markdown",
   "id": "71989cd1-5f7d-4e9d-ae92-7e134315220c",
   "metadata": {},
   "source": [
    "### Get the Tb and reindexed (local) cpT files"
   ]
  },
  {
   "cell_type": "code",
   "execution_count": 5,
   "id": "a2a76d83-dc50-4052-a902-300efb026ddc",
   "metadata": {
    "tags": []
   },
   "outputs": [],
   "source": [
    "tb_dict = {}\n",
    "cpT_dict = {}\n",
    "\n",
    "for region in region_list:\n",
    "    cpT = xr.open_dataset(\n",
    "        scratch_path + \"ERA5_cpT_reindexed_{s}{y}_{r}.nc\".format(s=season, y=years_str, r=region),\n",
    "    )[\"t\"]\n",
    "    tb_dict[region] = xr.open_dataset(\n",
    "        scratch_path + \"MERGIR_Tb_4km_{s}{y}_{r}.nc4\".format(s=season, y=years_str, r=region),\n",
    "    )[\"Tb\"]\n",
    "    cpT_dict[region] = cpT.reindex({\"time\": tb_dict[region].time}, method=\"nearest\") # get from 1 hour --> 30 min\n",
    "\n"
   ]
  },
  {
   "cell_type": "markdown",
   "id": "c885a4b9-0de0-424b-865e-8e2aa9b99e17",
   "metadata": {},
   "source": [
    "#### Get the frequencies"
   ]
  },
  {
   "cell_type": "code",
   "execution_count": 6,
   "id": "5d718fb2-360c-43fe-909a-38d0bb679876",
   "metadata": {},
   "outputs": [],
   "source": [
    "chunks = {\"time\": 4} # this is faster than \"auto\"\n"
   ]
  },
  {
   "cell_type": "code",
   "execution_count": 7,
   "id": "1a3b93e5-3d56-46d8-a5db-e7d02dd7a73c",
   "metadata": {
    "tags": []
   },
   "outputs": [
    {
     "name": "stdout",
     "output_type": "stream",
     "text": [
      "[########################################] | 100% Completed |  5min 39.2s\n",
      "[########################################] | 100% Completed |  2min 43.2s\n",
      "AFR done\n",
      "[########################################] | 100% Completed |  5min 19.1s\n",
      "[########################################] | 100% Completed |  3min  2.9s\n",
      "WPC done\n",
      "[########################################] | 100% Completed |  5min 43.8s\n",
      "[########################################] | 100% Completed |  5min 13.4s\n",
      "ECP done\n",
      "[########################################] | 100% Completed |  5min 54.1s\n",
      "[########################################] | 100% Completed |  4min 34.8s\n",
      "IOE done\n",
      "CPU times: user 21min 8s, sys: 5min 45s, total: 26min 54s\n",
      "Wall time: 38min 12s\n"
     ]
    }
   ],
   "source": [
    "%%time\n",
    "# os_freqs_dict = {}\n",
    "\n",
    "# to see how the results change w/ different threshold\n",
    "os_freqs_dict_m2 = {} # Tb < (Tcp - 2)\n",
    "os_freqs_dict_m4 = {} # Tb < (Tcp - 4)\n",
    "\n",
    "for region in region_list:\n",
    "    tb_chunked = tb_dict[region].chunk(chunks)\n",
    "    cpT_chunked = cpT_dict[region].chunk(chunks)\n",
    "    # counts_chunked = tb_chunked.where(tb_chunked < cpT_chunked).count(dim=\"time\")\n",
    "    counts_chunked_m2 = tb_chunked.where(tb_chunked < (cpT_chunked - 2)).count(dim=\"time\")\n",
    "    counts_chunked_m4 = tb_chunked.where(tb_chunked < (cpT_chunked - 4)).count(dim=\"time\")\n",
    "\n",
    "    with ProgressBar():\n",
    "        # counts = counts_chunked.compute()\n",
    "        counts_m2 = counts_chunked_m2.compute()\n",
    "    with ProgressBar():\n",
    "        counts_m4 = counts_chunked_m4.compute()\n",
    "        \n",
    "    # os_freqs_dict[region] = counts / len(tb_dict[region].time)\n",
    "    os_freqs_dict_m2[region] = counts_m2 / len(tb_dict[region].time)\n",
    "    os_freqs_dict_m4[region] = counts_m4 / len(tb_dict[region].time)\n",
    "\n",
    "    print(region, \"done\")\n",
    "    "
   ]
  },
  {
   "cell_type": "code",
   "execution_count": 8,
   "id": "dfe4d5d6-6a79-4900-80a6-7641bfa2b2e5",
   "metadata": {},
   "outputs": [],
   "source": [
    "for region in region_list:\n",
    "    if region == \"SPC1\":\n",
    "        # do both SPC regions for \"SPC1\"\n",
    "        # os_freqs_1 = os_freqs_dict[\"SPC1\"]\n",
    "        # os_freqs_2 = os_freqs_dict[\"SPC2\"]\n",
    "        # os_freqs = xr.concat([os_freqs_1, os_freqs_2], dim=\"lon\")\n",
    "        os_freqs_m2_1 = os_freqs_dict_m2[\"SPC1\"]\n",
    "        os_freqs_m2_2 = os_freqs_dict_m2[\"SPC2\"]\n",
    "        os_freqs_m2 = xr.concat([os_freqs_m2_1, os_freqs_m2_2], dim=\"lon\")\n",
    "        os_freqs_m4_1 = os_freqs_dict_m4[\"SPC1\"]\n",
    "        os_freqs_m4_2 = os_freqs_dict_m4[\"SPC2\"]\n",
    "        os_freqs_m4 = xr.concat([os_freqs_m4_1, os_freqs_m4_2], dim=\"lon\")\n",
    "        save_region = \"SPC\"\n",
    "    elif region == \"SPC2\":\n",
    "        # skip - already done\n",
    "        continue\n",
    "    else:\n",
    "        # os_freqs = os_freqs_dict[region]\n",
    "        os_freqs_m2 = os_freqs_dict_m2[region]\n",
    "        os_freqs_m4 = os_freqs_dict_m4[region]\n",
    "        save_region = region\n",
    "\n",
    "    # os_freqs.attrs = {\n",
    "    #     \"threshold_variable\": \"brightness temperature\",\n",
    "    #     \"threshold_description\": \"Tb < collocated 0.25deg cold point (not time mean)\",\n",
    "    #     \"units\": \"fraction (not percentage)\"\n",
    "    # }\n",
    "    os_freqs_m2.attrs = {\n",
    "        \"threshold_variable\": \"brightness temperature\",\n",
    "        \"threshold_description\": \"Tb < collocated 0.25deg cold point - 2K (not time mean)\",\n",
    "        \"units\": \"fraction (not percentage)\"\n",
    "    }\n",
    "    os_freqs_m4.attrs = {\n",
    "        \"threshold_variable\": \"brightness temperature\",\n",
    "        \"threshold_description\": \"Tb < collocated 0.25deg cold point - 4K (not time mean)\",\n",
    "        \"units\": \"fraction (not percentage)\"\n",
    "    }\n",
    "\n",
    "    # ds_os = xr.Dataset({\"os_freqs\": os_freqs})\n",
    "    ds_os_m2 = xr.Dataset({\"os_freqs\": os_freqs_m2})\n",
    "    ds_os_m4 = xr.Dataset({\"os_freqs\": os_freqs_m4})\n",
    "\n",
    "    if region == \"SPC2\":\n",
    "        print(\"got here\")\n",
    "    # out_path = file_path + \"os_frequencies/os_freq_Tb_below_cpT_{s}{y}_{r}.nc\".format(s=season, y=years_str, r=save_region)\n",
    "    # ds_os.to_netcdf(out_path)\n",
    "    out_path_m2 = file_path + \"os_frequencies/os_freq_Tb_below_cpT-2K_{s}{y}_{r}.nc\".format(s=season, y=years_str, r=save_region)\n",
    "    ds_os_m2.to_netcdf(out_path_m2)\n",
    "    out_path_m4 = file_path + \"os_frequencies/os_freq_Tb_below_cpT-4K_{s}{y}_{r}.nc\".format(s=season, y=years_str, r=save_region)\n",
    "    ds_os_m4.to_netcdf(out_path_m4)\n",
    "    "
   ]
  },
  {
   "cell_type": "code",
   "execution_count": 17,
   "id": "871d330a-3006-4edb-80dc-1ba3d9d0cd60",
   "metadata": {},
   "outputs": [],
   "source": [
    "if \"SPC1\" in region_list:\n",
    "    for region in [\"SPC1\", \"SPC2\"]:\n",
    "        # os_freqs = os_freqs_dict[region]\n",
    "        os_freqs_m2 = os_freqs_dict_m2[region]\n",
    "        os_freqs_m4 = os_freqs_dict_m4[region]\n",
    "        save_region = region\n",
    "\n",
    "#         os_freqs.attrs = {\n",
    "#             \"threshold_variable\": \"brightness temperature\",\n",
    "#             \"threshold_description\": \"Tb < collocated 0.25deg cold point (not time mean)\",\n",
    "#             \"units\": \"fraction (not percentage)\"\n",
    "#         }\n",
    "        os_freqs_m2.attrs = {\n",
    "            \"threshold_variable\": \"brightness temperature\",\n",
    "            \"threshold_description\": \"Tb < collocated 0.25deg cold point - 2K (not time mean)\",\n",
    "            \"units\": \"fraction (not percentage)\"\n",
    "        }\n",
    "        os_freqs_m4.attrs = {\n",
    "            \"threshold_variable\": \"brightness temperature\",\n",
    "            \"threshold_description\": \"Tb < collocated 0.25deg cold point - 4K (not time mean)\",\n",
    "            \"units\": \"fraction (not percentage)\"\n",
    "        }\n",
    "\n",
    "        # ds_os = xr.Dataset({\"os_freqs\": os_freqs})\n",
    "        ds_os_m2 = xr.Dataset({\"os_freqs\": os_freqs_m2})\n",
    "        ds_os_m4 = xr.Dataset({\"os_freqs\": os_freqs_m4})\n",
    "        \n",
    "        # out_path = file_path + \"os_frequencies/os_freq_Tb_below_cpT_{s}{y}_{r}.nc\".format(s=season, y=years_str, r=save_region)\n",
    "        # ds_os.to_netcdf(out_path)\n",
    "        out_path_m2 = file_path + \"os_frequencies/os_freq_Tb_below_cpT-2K_{s}{y}_{r}.nc\".format(s=season, y=years_str, r=save_region)\n",
    "        ds_os_m2.to_netcdf(out_path_m2)\n",
    "        out_path_m4 = file_path + \"os_frequencies/os_freq_Tb_below_cpT-4K_{s}{y}_{r}.nc\".format(s=season, y=years_str, r=save_region)\n",
    "        ds_os_m4.to_netcdf(out_path_m4)\n",
    "    \n"
   ]
  },
  {
   "cell_type": "code",
   "execution_count": null,
   "id": "30c17d5b-0914-4d33-98c6-c872a68e317c",
   "metadata": {},
   "outputs": [],
   "source": []
  },
  {
   "cell_type": "markdown",
   "id": "91a1d310-d49c-4f50-88cf-2b6e3b619778",
   "metadata": {},
   "source": [
    "## Old way (using time-averaged cpT & calculated threshold)"
   ]
  },
  {
   "cell_type": "markdown",
   "id": "af52a505-3641-4789-b292-0ba226727186",
   "metadata": {},
   "source": [
    "### Get the threshold files"
   ]
  },
  {
   "cell_type": "code",
   "execution_count": 5,
   "id": "b04a6715-cf9e-4c28-9eb0-596e2e8cfa26",
   "metadata": {
    "tags": []
   },
   "outputs": [],
   "source": [
    "# thresh_dict = {}\n",
    "# tb_dict = {}\n",
    "# cpT_dict = {}\n",
    "# offset_dict = {}\n",
    "# chunks = {\"time\": 4}\n",
    "\n",
    "# for region in region_list:\n",
    "#     if region == \"SPC1\":\n",
    "#         thresh_025_all = xr.open_dataset(file_path + \"Tb_os_thresholds/ERA5_0.25deg_cp_thresh_{s}{y}_SPC.nc\".format(y=years_str, s=season))\n",
    "#         thresh_025 = thresh_025_all.sel(longitude=slice(None, 180))\n",
    "#     elif region == \"SPC2\":\n",
    "#         thresh_025_all = xr.open_dataset(file_path + \"Tb_os_thresholds/ERA5_0.25deg_cp_thresh_{s}{y}_SPC.nc\".format(y=years_str, s=season))\n",
    "#         thresh_025 = thresh_025_all.sel(longitude=slice(-180, None))\n",
    "#     else:\n",
    "#         thresh_025 = xr.open_dataset(file_path + \"Tb_os_thresholds/ERA5_0.25deg_cp_thresh_{s}{y}_{r}.nc\".format(r=region, y=years_str, s=season))\n",
    "    \n",
    "#     offset_dict[region] = thresh_025.attrs[\"temp_offset\"]\n",
    "#     tb = xr.open_dataset(\"/scratch/b/b380887/MERGIR_Tb_4km_{s}{y}_{r}.nc4\".format(r=region, y=years_str, s=season))[\"Tb\"]\n",
    "        \n",
    "#     thresh_ri = thresh_025[\"os_threshold\"].rename({\"longitude\": \"lon\", \"latitude\": \"lat\"}).reindex_like(tb, method=\"nearest\")\n",
    "#     cpT_ri = thresh_025[\"cpT\"].rename({\"longitude\": \"lon\", \"latitude\": \"lat\"}).reindex_like(tb, method=\"nearest\")\n",
    "#     thresh_dict[region] = thresh_ri\n",
    "#     cpT_dict[region] = cpT_ri\n",
    "#     tb_dict[region] = tb\n"
   ]
  },
  {
   "cell_type": "markdown",
   "id": "759ed54b-9a10-4950-be23-bbf5e3f5cd39",
   "metadata": {
    "tags": []
   },
   "source": [
    "#### Calculate the frequencies:\n",
    "Takes ~26 min "
   ]
  },
  {
   "cell_type": "code",
   "execution_count": 6,
   "id": "a3a75964-9d9c-49bc-99b5-84b7edf0d63e",
   "metadata": {
    "tags": []
   },
   "outputs": [
    {
     "name": "stdout",
     "output_type": "stream",
     "text": [
      "[########################################] | 100% Completed |  5min 45.8s\n",
      "[########################################] | 100% Completed |  2min 12.7s\n",
      "AFR done\n",
      "[########################################] | 100% Completed |  4min 45.3s\n",
      "[########################################] | 100% Completed | 52.0s\n",
      "WPC done\n",
      "[########################################] | 100% Completed |  4min 53.9s\n",
      "[########################################] | 100% Completed | 53.0s\n",
      "ECP done\n",
      "[########################################] | 100% Completed |  4min 15.9s\n",
      "[########################################] | 100% Completed |  1min 13.3s\n",
      "IOE done\n",
      "CPU times: user 12min 51s, sys: 1min 48s, total: 14min 40s\n",
      "Wall time: 26min 29s\n"
     ]
    }
   ],
   "source": [
    "%%time\n",
    "os_freqs_dict = {}\n",
    "os_cpT_freqs_dict = {}\n",
    "\n",
    "for region in region_list:\n",
    "    tb_chunked = tb_dict[region].chunk({\"time\": 4})\n",
    "    counts_chunked = tb_chunked.where(tb_chunked <= thresh_dict[region]).count(dim=\"time\")\n",
    "    counts_cp_chunked = tb_chunked.where(tb_chunked <= cpT_dict[region]).count(dim=\"time\")\n",
    "    with ProgressBar():\n",
    "        counts = counts_chunked.compute()\n",
    "    with ProgressBar():\n",
    "        counts_cp = counts_cp_chunked.compute()\n",
    "    os_freqs_dict[region] = counts / len(tb_dict[region].time)\n",
    "    os_cpT_freqs_dict[region] = counts_cp / len(tb_dict[region].time)\n",
    "    print(region, \"done\")\n",
    "    "
   ]
  },
  {
   "cell_type": "code",
   "execution_count": 6,
   "id": "2b2d56f4-bb86-432c-82e9-7b9621c70324",
   "metadata": {
    "tags": []
   },
   "outputs": [
    {
     "name": "stdout",
     "output_type": "stream",
     "text": [
      "[########################################] | 100% Completed |  1min 28.7s\n",
      "[########################################] | 100% Completed | 14.3s\n",
      "SPC1 done\n",
      "[########################################] | 100% Completed |  3min 24.4s\n",
      "[########################################] | 100% Completed | 35.4s\n",
      "SPC2 done\n",
      "CPU times: user 2min 9s, sys: 1min 17s, total: 3min 27s\n",
      "Wall time: 6min 7s\n"
     ]
    }
   ],
   "source": [
    "%%time\n",
    "os_freqs_dict = {}\n",
    "os_cpT_freqs_dict = {}\n",
    "\n",
    "# for region in region_list:\n",
    "for region in [\"SPC1\", \"SPC2\"]:\n",
    "    tb_chunked = tb_dict[region].chunk({\"time\": 4})\n",
    "    counts_chunked = tb_chunked.where(tb_chunked <= thresh_dict[region]).count(dim=\"time\")\n",
    "    counts_cp_chunked = tb_chunked.where(tb_chunked <= cpT_dict[region]).count(dim=\"time\")\n",
    "    with ProgressBar():\n",
    "        counts = counts_chunked.compute()\n",
    "    with ProgressBar():\n",
    "        counts_cp = counts_cp_chunked.compute()\n",
    "    os_freqs_dict[region] = counts / len(tb_dict[region].time)\n",
    "    os_cpT_freqs_dict[region] = counts_cp / len(tb_dict[region].time)\n",
    "    print(region, \"done\")\n",
    "    "
   ]
  },
  {
   "cell_type": "markdown",
   "id": "1c7b8ed6-f665-442c-8dc9-b78b3efa5d89",
   "metadata": {},
   "source": [
    "#### Save all regions as netcdfs:"
   ]
  },
  {
   "cell_type": "code",
   "execution_count": 10,
   "id": "ec1f08d5-e5e9-4e26-be6d-60ea934a16ea",
   "metadata": {},
   "outputs": [],
   "source": [
    "for region in region_list:\n",
    "    if region == \"SPC1\":\n",
    "        # do both SPC regions for \"SPC1\"\n",
    "        os_freqs_1 = os_freqs_dict[\"SPC1\"]\n",
    "        os_freqs_2 = os_freqs_dict[\"SPC2\"]\n",
    "        os_freqs = xr.concat([os_freqs_1, os_freqs_2], dim=\"lon\")\n",
    "        os_cpT_freqs_1 = os_cpT_freqs_dict[\"SPC1\"]\n",
    "        os_cpT_freqs_2 = os_cpT_freqs_dict[\"SPC2\"]\n",
    "        os_cpT_freqs = xr.concat([os_cpT_freqs_1, os_cpT_freqs_2], dim=\"lon\")\n",
    "        save_region = \"SPC\"\n",
    "    elif region == \"SPC2\":\n",
    "        # skip - already done\n",
    "        continue\n",
    "    else:\n",
    "        os_freqs = os_freqs_dict[region]\n",
    "        os_cpT_freqs = os_cpT_freqs_dict[region]\n",
    "        save_region = region\n",
    "\n",
    "    os_freqs.attrs = {\n",
    "        \"threshold_variable\": \"brightness temperature\",\n",
    "        \"threshold_description\": \"0.25deg cold point offset by local value\",\n",
    "        \"temp_offset\": offset_dict[region],\n",
    "        \"units\": \"fraction (not percentage)\"\n",
    "    }\n",
    "    \n",
    "    os_cpT_freqs.attrs = {\n",
    "        \"threshold_variable\": \"brightness temperature\",\n",
    "        \"threshold_description\": \"Tb < 0.25deg cold point temperature\",\n",
    "        \"units\": \"fraction (not percentage)\"\n",
    "    }\n",
    "    \n",
    "    ds_os = xr.Dataset({\"os_freqs\": os_freqs, \"os_cpT_freqs\": os_cpT_freqs})\n",
    "\n",
    "    if region == \"SPC2\":\n",
    "        print(\"got here\")\n",
    "    out_path = file_path + \"os_frequencies/os_freq_Tb_{s}{y}_{r}.nc\".format(s=season, y=years_str, r=save_region)\n",
    "    ds_os.to_netcdf(out_path)\n"
   ]
  },
  {
   "cell_type": "markdown",
   "id": "9398cf60-136f-4937-828e-23e67db28f51",
   "metadata": {},
   "source": [
    "#### Also save the SPC regions separately as netcdfs:"
   ]
  },
  {
   "cell_type": "code",
   "execution_count": 12,
   "id": "d1994beb-d7b9-4a33-80ca-468adcd8d7bb",
   "metadata": {},
   "outputs": [],
   "source": [
    "if \"SPC1\" in region_list:\n",
    "    for region in [\"SPC1\", \"SPC2\"]:\n",
    "        os_freqs = os_freqs_dict[region]\n",
    "        os_cpT_freqs = os_cpT_freqs_dict[region]\n",
    "\n",
    "        save_region = region\n",
    "\n",
    "        os_freqs.attrs = {\n",
    "            \"threshold_variable\": \"brightness temperature\",\n",
    "            \"threshold_description\": \"0.25deg cold point offset by local value\",\n",
    "            \"temp_offset\": offset_dict[region],\n",
    "            \"units\": \"fraction (not percentage)\"\n",
    "        }\n",
    "        \n",
    "        os_cpT_freqs.attrs = {\n",
    "            \"threshold_variable\": \"brightness temperature\",\n",
    "            \"threshold_description\": \"Tb < 0.25deg cold point temperature\",\n",
    "            \"units\": \"fraction (not percentage)\"\n",
    "        }\n",
    "        \n",
    "        ds_os = xr.Dataset({\"os_freqs\": os_freqs, \"os_cpT_freqs\": os_cpT_freqs})\n",
    "\n",
    "        out_path = file_path + \"os_frequencies/os_freq_Tb_{s}{y}_{r}.nc\".format(s=season, y=years_str, r=region)\n",
    "        ds_os.to_netcdf(out_path)\n"
   ]
  },
  {
   "cell_type": "code",
   "execution_count": null,
   "id": "5e0b6de2-ecfe-4d48-aeb7-80492a752e42",
   "metadata": {},
   "outputs": [],
   "source": []
  }
 ],
 "metadata": {
  "kernelspec": {
   "display_name": "dyamond2 kernel",
   "language": "python",
   "name": "d2env"
  },
  "language_info": {
   "codemirror_mode": {
    "name": "ipython",
    "version": 3
   },
   "file_extension": ".py",
   "mimetype": "text/x-python",
   "name": "python",
   "nbconvert_exporter": "python",
   "pygments_lexer": "ipython3",
   "version": "3.10.4"
  }
 },
 "nbformat": 4,
 "nbformat_minor": 5
}
