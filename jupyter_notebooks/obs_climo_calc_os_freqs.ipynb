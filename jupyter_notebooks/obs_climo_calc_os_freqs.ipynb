{
 "cells": [
  {
   "cell_type": "markdown",
   "id": "40837fa0-5da2-4388-bba8-e88951998a45",
   "metadata": {
    "tags": []
   },
   "source": [
    "# Calculate overshooting frequencies at each grid point for the obs climo\n",
    "#### Get the frequencies for Tb <= local cpT ~~Tb <= threshold and Tb <= cpT~~\n",
    "First need to get the concatenated Tb files (using cdo) from `cat_Tb_cpT_time.sh` ~~`cat_Tb_time.sh`~~\n"
   ]
  },
  {
   "cell_type": "code",
   "execution_count": 1,
   "id": "3b23a631-138c-4366-994f-fea35d39adcc",
   "metadata": {},
   "outputs": [],
   "source": [
    "import dask\n",
    "import numpy as np\n",
    "import xarray as xr\n",
    "\n",
    "from dask.diagnostics import ProgressBar\n"
   ]
  },
  {
   "cell_type": "code",
   "execution_count": 2,
   "id": "786f19fa-72e1-4353-8494-f047c5fcc993",
   "metadata": {},
   "outputs": [],
   "source": [
    "file_path = \"/work/bb1153/b380887/big_obs_climo/\"\n",
    "scratch_path = \"/scratch/b/b380887/\"\n"
   ]
  },
  {
   "cell_type": "code",
   "execution_count": 3,
   "id": "ee080949-fe8e-4e8f-9e8b-6d50ef6fd614",
   "metadata": {},
   "outputs": [],
   "source": [
    "season = \"JJA\"\n",
    "years_str = \"2007-2010\"\n"
   ]
  },
  {
   "cell_type": "code",
   "execution_count": 4,
   "id": "6e30d0c0-352a-448b-89d2-aacc45e00c38",
   "metadata": {},
   "outputs": [],
   "source": [
    "if season == \"DJF\":\n",
    "    region_list = [\"AMZ\", \"SPC1\", \"SPC2\", \"ECP\", \"IOS\"] \n",
    "\n",
    "elif season == \"JJA\":\n",
    "    region_list = [\"AFR\", \"WPC\", \"ECP\", \"IOE\"]\n"
   ]
  },
  {
   "cell_type": "markdown",
   "id": "71989cd1-5f7d-4e9d-ae92-7e134315220c",
   "metadata": {},
   "source": [
    "### Get the Tb and reindexed (local) cpT files"
   ]
  },
  {
   "cell_type": "code",
   "execution_count": 5,
   "id": "a2a76d83-dc50-4052-a902-300efb026ddc",
   "metadata": {
    "tags": []
   },
   "outputs": [],
   "source": [
    "tb_dict = {}\n",
    "cpT_dict = {}\n",
    "\n",
    "for region in region_list:\n",
    "    cpT = xr.open_dataset(\n",
    "        scratch_path + \"ERA5_cpT_reindexed_{s}{y}_{r}.nc\".format(s=season, y=years_str, r=region),\n",
    "    )[\"t\"]\n",
    "    tb_dict[region] = xr.open_dataset(\n",
    "        scratch_path + \"MERGIR_Tb_4km_{s}{y}_{r}.nc4\".format(s=season, y=years_str, r=region),\n",
    "    )[\"Tb\"]\n",
    "    cpT_dict[region] = cpT.reindex({\"time\": tb_dict[region].time}, method=\"nearest\") # get from 1 hour --> 30 min\n",
    "\n"
   ]
  },
  {
   "cell_type": "markdown",
   "id": "c885a4b9-0de0-424b-865e-8e2aa9b99e17",
   "metadata": {},
   "source": [
    "#### Get the frequencies"
   ]
  },
  {
   "cell_type": "code",
   "execution_count": 6,
   "id": "5d718fb2-360c-43fe-909a-38d0bb679876",
   "metadata": {},
   "outputs": [],
   "source": [
    "chunks = {\"time\": 4} # this is faster than \"auto\"\n"
   ]
  },
  {
   "cell_type": "code",
   "execution_count": 7,
   "id": "1a3b93e5-3d56-46d8-a5db-e7d02dd7a73c",
   "metadata": {
    "tags": []
   },
   "outputs": [
    {
     "name": "stdout",
     "output_type": "stream",
     "text": [
      "[########################################] | 100% Completed |  5min 39.2s\n",
      "[########################################] | 100% Completed |  2min 43.2s\n",
      "AFR done\n",
      "[########################################] | 100% Completed |  5min 19.1s\n",
      "[########################################] | 100% Completed |  3min  2.9s\n",
      "WPC done\n",
      "[########################################] | 100% Completed |  5min 43.8s\n",
      "[########################################] | 100% Completed |  5min 13.4s\n",
      "ECP done\n",
      "[########################################] | 100% Completed |  5min 54.1s\n",
      "[########################################] | 100% Completed |  4min 34.8s\n",
      "IOE done\n",
      "CPU times: user 21min 8s, sys: 5min 45s, total: 26min 54s\n",
      "Wall time: 38min 12s\n"
     ]
    }
   ],
   "source": [
    "%%time\n",
    "os_freqs_dict = {}\n",
    "\n",
    "# to see how the results change w/ different threshold\n",
    "os_freqs_dict_m2 = {} # Tb < (Tcp - 2)\n",
    "os_freqs_dict_m4 = {} # Tb < (Tcp - 4)\n",
    "\n",
    "for region in region_list:\n",
    "    tb_chunked = tb_dict[region].chunk(chunks)\n",
    "    cpT_chunked = cpT_dict[region].chunk(chunks)\n",
    "    counts_chunked = tb_chunked.where(tb_chunked < cpT_chunked).count(dim=\"time\")\n",
    "    counts_chunked_m2 = tb_chunked.where(tb_chunked < (cpT_chunked - 2)).count(dim=\"time\")\n",
    "    counts_chunked_m4 = tb_chunked.where(tb_chunked < (cpT_chunked - 4)).count(dim=\"time\")\n",
    "\n",
    "    with ProgressBar():\n",
    "        counts = counts_chunked.compute()\n",
    "        counts_m2 = counts_chunked_m2.compute()\n",
    "    with ProgressBar():\n",
    "        counts_m4 = counts_chunked_m4.compute()\n",
    "        \n",
    "    os_freqs_dict[region] = counts / len(tb_dict[region].time)\n",
    "    os_freqs_dict_m2[region] = counts_m2 / len(tb_dict[region].time)\n",
    "    os_freqs_dict_m4[region] = counts_m4 / len(tb_dict[region].time)\n",
    "\n",
    "    print(region, \"done\")\n",
    "    "
   ]
  },
  {
   "cell_type": "code",
   "execution_count": 8,
   "id": "dfe4d5d6-6a79-4900-80a6-7641bfa2b2e5",
   "metadata": {},
   "outputs": [],
   "source": [
    "for region in region_list:\n",
    "    if region == \"SPC1\":\n",
    "        # do both SPC regions for \"SPC1\"\n",
    "        os_freqs_1 = os_freqs_dict[\"SPC1\"]\n",
    "        os_freqs_2 = os_freqs_dict[\"SPC2\"]\n",
    "        os_freqs = xr.concat([os_freqs_1, os_freqs_2], dim=\"lon\")\n",
    "        os_freqs_m2_1 = os_freqs_dict_m2[\"SPC1\"]\n",
    "        os_freqs_m2_2 = os_freqs_dict_m2[\"SPC2\"]\n",
    "        os_freqs_m2 = xr.concat([os_freqs_m2_1, os_freqs_m2_2], dim=\"lon\")\n",
    "        os_freqs_m4_1 = os_freqs_dict_m4[\"SPC1\"]\n",
    "        os_freqs_m4_2 = os_freqs_dict_m4[\"SPC2\"]\n",
    "        os_freqs_m4 = xr.concat([os_freqs_m4_1, os_freqs_m4_2], dim=\"lon\")\n",
    "        save_region = \"SPC\"\n",
    "    elif region == \"SPC2\":\n",
    "        # skip - already done\n",
    "        continue\n",
    "    else:\n",
    "        os_freqs = os_freqs_dict[region]\n",
    "        os_freqs_m2 = os_freqs_dict_m2[region]\n",
    "        os_freqs_m4 = os_freqs_dict_m4[region]\n",
    "        save_region = region\n",
    "\n",
    "    os_freqs.attrs = {\n",
    "        \"threshold_variable\": \"brightness temperature\",\n",
    "        \"threshold_description\": \"Tb < collocated 0.25deg cold point (not time mean)\",\n",
    "        \"units\": \"fraction (not percentage)\"\n",
    "    }\n",
    "    os_freqs_m2.attrs = {\n",
    "        \"threshold_variable\": \"brightness temperature\",\n",
    "        \"threshold_description\": \"Tb < collocated 0.25deg cold point - 2K (not time mean)\",\n",
    "        \"units\": \"fraction (not percentage)\"\n",
    "    }\n",
    "    os_freqs_m4.attrs = {\n",
    "        \"threshold_variable\": \"brightness temperature\",\n",
    "        \"threshold_description\": \"Tb < collocated 0.25deg cold point - 4K (not time mean)\",\n",
    "        \"units\": \"fraction (not percentage)\"\n",
    "    }\n",
    "\n",
    "    # ds_os = xr.Dataset({\"os_freqs\": os_freqs})\n",
    "    ds_os_m2 = xr.Dataset({\"os_freqs\": os_freqs_m2})\n",
    "    ds_os_m4 = xr.Dataset({\"os_freqs\": os_freqs_m4})\n",
    "\n",
    "    if region == \"SPC2\":\n",
    "        print(\"got here\")\n",
    "    out_path = file_path + \"os_frequencies/os_freq_Tb_below_cpT_{s}{y}_{r}.nc\".format(s=season, y=years_str, r=save_region)\n",
    "    ds_os.to_netcdf(out_path)\n",
    "    out_path_m2 = file_path + \"os_frequencies/os_freq_Tb_below_cpT-2K_{s}{y}_{r}.nc\".format(s=season, y=years_str, r=save_region)\n",
    "    ds_os_m2.to_netcdf(out_path_m2)\n",
    "    out_path_m4 = file_path + \"os_frequencies/os_freq_Tb_below_cpT-4K_{s}{y}_{r}.nc\".format(s=season, y=years_str, r=save_region)\n",
    "    ds_os_m4.to_netcdf(out_path_m4)\n",
    "    "
   ]
  },
  {
   "cell_type": "code",
   "execution_count": 17,
   "id": "871d330a-3006-4edb-80dc-1ba3d9d0cd60",
   "metadata": {},
   "outputs": [],
   "source": [
    "if \"SPC1\" in region_list:\n",
    "    for region in [\"SPC1\", \"SPC2\"]:\n",
    "        os_freqs = os_freqs_dict[region]\n",
    "        os_freqs_m2 = os_freqs_dict_m2[region]\n",
    "        os_freqs_m4 = os_freqs_dict_m4[region]\n",
    "        save_region = region\n",
    "\n",
    "        os_freqs.attrs = {\n",
    "            \"threshold_variable\": \"brightness temperature\",\n",
    "            \"threshold_description\": \"Tb < collocated 0.25deg cold point (not time mean)\",\n",
    "            \"units\": \"fraction (not percentage)\"\n",
    "        }\n",
    "        os_freqs_m2.attrs = {\n",
    "            \"threshold_variable\": \"brightness temperature\",\n",
    "            \"threshold_description\": \"Tb < collocated 0.25deg cold point - 2K (not time mean)\",\n",
    "            \"units\": \"fraction (not percentage)\"\n",
    "        }\n",
    "        os_freqs_m4.attrs = {\n",
    "            \"threshold_variable\": \"brightness temperature\",\n",
    "            \"threshold_description\": \"Tb < collocated 0.25deg cold point - 4K (not time mean)\",\n",
    "            \"units\": \"fraction (not percentage)\"\n",
    "        }\n",
    "\n",
    "        ds_os = xr.Dataset({\"os_freqs\": os_freqs})\n",
    "        ds_os_m2 = xr.Dataset({\"os_freqs\": os_freqs_m2})\n",
    "        ds_os_m4 = xr.Dataset({\"os_freqs\": os_freqs_m4})\n",
    "        \n",
    "        # out_path = file_path + \"os_frequencies/os_freq_Tb_below_cpT_{s}{y}_{r}.nc\".format(s=season, y=years_str, r=save_region)\n",
    "        ds_os.to_netcdf(out_path)\n",
    "        out_path_m2 = file_path + \"os_frequencies/os_freq_Tb_below_cpT-2K_{s}{y}_{r}.nc\".format(s=season, y=years_str, r=save_region)\n",
    "        ds_os_m2.to_netcdf(out_path_m2)\n",
    "        out_path_m4 = file_path + \"os_frequencies/os_freq_Tb_below_cpT-4K_{s}{y}_{r}.nc\".format(s=season, y=years_str, r=save_region)\n",
    "        ds_os_m4.to_netcdf(out_path_m4)\n",
    "    \n"
   ]
  },
  {
   "cell_type": "code",
   "execution_count": null,
   "id": "5e0b6de2-ecfe-4d48-aeb7-80492a752e42",
   "metadata": {},
   "outputs": [],
   "source": []
  }
 ],
 "metadata": {
  "kernelspec": {
   "display_name": "d2env",
   "language": "python",
   "name": "d2env"
  },
  "language_info": {
   "codemirror_mode": {
    "name": "ipython",
    "version": 3
   },
   "file_extension": ".py",
   "mimetype": "text/x-python",
   "name": "python",
   "nbconvert_exporter": "python",
   "pygments_lexer": "ipython3",
   "version": "3.10.4"
  }
 },
 "nbformat": 4,
 "nbformat_minor": 5
}
