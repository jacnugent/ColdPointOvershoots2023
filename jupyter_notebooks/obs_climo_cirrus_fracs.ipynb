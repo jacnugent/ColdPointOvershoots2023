{
 "cells": [
  {
   "cell_type": "markdown",
   "id": "e5ed6824-af15-4c03-90da-25e503749b57",
   "metadata": {
    "tags": []
   },
   "source": [
    "# Cirrus fractions for obs climatology\n",
    "directly related to conv vs. in situ\n",
    "\n",
    "using \n",
    "\n",
    "1. **lidar only vs. lidar & radar**\n",
    "2. Brightness temperature thresholds (to match DYAMOND)\n"
   ]
  },
  {
   "cell_type": "markdown",
   "id": "9adf7fab-c385-460f-bd60-8d1ab5a50668",
   "metadata": {},
   "source": [
    "* at +500m\n",
    "* at +1000m\n",
    "* at +500m and +1000 m"
   ]
  },
  {
   "cell_type": "markdown",
   "id": "70f1b9ec-3697-4151-bd81-4c871fbcaaa4",
   "metadata": {},
   "source": [
    "## TODO: save as dictionaries?\n",
    "probably will want to for the paper if we're making a table..."
   ]
  },
  {
   "cell_type": "code",
   "execution_count": 1,
   "id": "9f9b03ff-a16f-49ce-95de-c17a285761e8",
   "metadata": {},
   "outputs": [],
   "source": [
    "import sys\n",
    "sys.path.append(\"/home/b/b380887/cold-point-overshoot/python_scripts\")\n",
    "import dask\n",
    "import pickle\n",
    "\n",
    "import xarray as xr\n",
    "import numpy as np\n",
    "import matplotlib.pyplot as plt\n",
    "import matplotlib.colors as mcolors\n",
    "import matplotlib.ticker as mticker\n",
    "import bin_obs_overshoot as boo\n",
    "\n",
    "from dask.diagnostics import ProgressBar\n",
    "from matplotlib.gridspec import GridSpec\n",
    "from mpl_toolkits.axes_grid1.inset_locator import inset_axes\n"
   ]
  },
  {
   "cell_type": "code",
   "execution_count": 2,
   "id": "4d518365-ebb7-40f9-992e-f518dcd5cf99",
   "metadata": {},
   "outputs": [],
   "source": [
    "season = \"JJA\"\n"
   ]
  },
  {
   "cell_type": "code",
   "execution_count": 3,
   "id": "e469f40b-43dc-4c91-8372-5137560798f9",
   "metadata": {},
   "outputs": [
    {
     "name": "stdout",
     "output_type": "stream",
     "text": [
      "2007-2010\n"
     ]
    }
   ],
   "source": [
    "if season == \"DJF\":\n",
    "    region_list = [\"AMZ\", \"SPC\", \"ECP\", \"IOS\"]\n",
    "    year_list = [2007, 2008, 2009, 2010]\n",
    "    \n",
    "elif season == \"JJA\":\n",
    "    region_list = [\"AFR\", \"WPC\", \"ECP\", \"IOE\"]\n",
    "    year_list = [2007, 2008, 2009, 2010] # TODO: add 2006 when done\n",
    "    \n",
    "years_sorted = list(sorted(year_list))\n",
    "years_str = str(years_sorted[0]) + \"-\" + str(years_sorted[-1])\n",
    "print(years_str)\n"
   ]
  },
  {
   "cell_type": "markdown",
   "id": "88765bb3-0bac-492e-95ba-f03e31201f32",
   "metadata": {},
   "source": [
    "### Get the climo datasets for lidar-only and radar+lidar ice at +500m and +1000m"
   ]
  },
  {
   "cell_type": "code",
   "execution_count": 4,
   "id": "37d8aa36-0186-4b1b-b65e-36309016f090",
   "metadata": {},
   "outputs": [],
   "source": [
    "file_path = \"/work/bb1153/b380887/big_obs_climo/\"\n"
   ]
  },
  {
   "cell_type": "code",
   "execution_count": 5,
   "id": "cf0296c9-fcdd-4d2b-a3c1-50406da3092f",
   "metadata": {},
   "outputs": [
    {
     "name": "stdout",
     "output_type": "stream",
     "text": [
      "AFR done\n",
      "WPC done\n",
      "ECP done\n",
      "IOE done\n"
     ]
    }
   ],
   "source": [
    "ds_dict = {}\n",
    "variables = [\"iwc_a500\", \"iwc_a1000\", \"iflag_a500\", \"iflag_a1000\"]\n",
    "\n",
    "for region in region_list:\n",
    "    dar_list = [[]]*len(year_list)\n",
    "\n",
    "    for i, year in enumerate(year_list):\n",
    "        if region == \"SPC\":\n",
    "            ds_all_1 = xr.open_dataset(file_path + \"{s}/DARDAR_cp_relative_iwc_{s}{y}_{r}1.nc\".format(s=season, y=year, r=region))\n",
    "            ds_all_2 = xr.open_dataset(file_path + \"{s}/DARDAR_cp_relative_iwc_{s}{y}_{r}2.nc\".format(s=season, y=year, r=region))            \n",
    "            dar_list[i] = xr.concat([ds_all_1, ds_all_2], dim=\"time\")\n",
    "        else:\n",
    "            dar_list[i] = xr.open_dataset(file_path + \"{s}/DARDAR_cp_relative_iwc_{s}{y}_{r}.nc\".format(s=season, y=year, r=region))\n",
    "\n",
    "    ds = xr.concat(dar_list, dim=\"time\")\n",
    "    ds_dict[region] = ds[variables]\n",
    "    print(region + \" done\")\n",
    "                         "
   ]
  },
  {
   "cell_type": "code",
   "execution_count": null,
   "id": "aefd6e4c-7699-4834-92d4-4ccfeb2486d3",
   "metadata": {},
   "outputs": [],
   "source": []
  },
  {
   "cell_type": "markdown",
   "id": "7f97e29c-2c27-41ba-aff6-e94588b576dc",
   "metadata": {
    "tags": []
   },
   "source": [
    "#### Instrument flag:\n",
    "* 1 = lidar only\n",
    "* 3 = radar + lidar"
   ]
  },
  {
   "cell_type": "markdown",
   "id": "1033fc98-46c5-4f8c-8f1b-803934317afa",
   "metadata": {},
   "source": [
    "##### NOTE: \n",
    "The means are **IWC**, not **qi** - won't match up with binned plot unless you convert htose with the reference densities"
   ]
  },
  {
   "cell_type": "code",
   "execution_count": 6,
   "id": "013e25f4-f1a0-4054-b5eb-7fa71f5f26ec",
   "metadata": {},
   "outputs": [],
   "source": [
    "def get_cirrus_stats(ds, region, iwc_min=None):\n",
    "    \"\"\" Get frequency of retrievals at each level\n",
    "    \"\"\"\n",
    "    # iwc at each level, conditioned by instrument flag\n",
    "    iwc_a500_lid = ds[\"iwc_a500\"].where(ds[\"iflag_a500\"] == 1.0)\n",
    "    iwc_a500_both = ds[\"iwc_a500\"].where(ds[\"iflag_a500\"] == 3.0)\n",
    "    iwc_a1000_lid = ds[\"iwc_a1000\"].where(ds[\"iflag_a1000\"] == 1.0)\n",
    "    iwc_a1000_both = ds[\"iwc_a1000\"].where(ds[\"iflag_a1000\"] == 3.0)\n",
    "    \n",
    "    # exclude retrievals with no ice detected if requested\n",
    "    # (makes very little difference because iflag already excludes almost all of those)\n",
    "    if iwc_min is not None:\n",
    "        iwc_a500_lid = iwc_a500_lid.where(iwc_a500_lid > iwc_min)\n",
    "        iwc_a500_both = iwc_a500_both.where(iwc_a500_both > iwc_min)\n",
    "        iwc_a1000_lid = iwc_a1000_lid.where(iwc_a1000_lid > iwc_min)\n",
    "        iwc_a1000_both = iwc_a1000_both.where(iwc_a1000_both > iwc_min)\n",
    "\n",
    "    # total number of retrievals at each level\n",
    "    tot_500 = ds[\"iwc_a500\"].count()\n",
    "    tot_1000 = ds[\"iwc_a1000\"].count()\n",
    "\n",
    "    # fractions of retrievals from each instrument at each level\n",
    "    lid_frac_500 = iwc_a500_lid.count() / tot_500\n",
    "    both_frac_500 = iwc_a500_both.count() / tot_500\n",
    "    lid_frac_1000 = iwc_a1000_lid.count() / tot_1000\n",
    "    both_frac_1000 = iwc_a1000_both.count() / tot_1000\n",
    "\n",
    "    # mean IWC from each instrument at each level\n",
    "    lid_mean_500 = iwc_a500_lid.mean()\n",
    "    both_mean_500 = iwc_a500_both.mean()\n",
    "    lid_mean_1000 = iwc_a1000_lid.mean()\n",
    "    both_mean_1000 = iwc_a1000_both.mean()\n",
    "\n",
    "    # same as above, but for +500 and +1000 levels combined\n",
    "    lid_frac_51 = (iwc_a500_lid.count() + iwc_a1000_lid.count()) / (tot_500 + tot_1000)\n",
    "    both_frac_51 = (iwc_a500_both.count() + iwc_a1000_both.count()) / (tot_500 + tot_1000)\n",
    "    lid_mean_51 = xr.concat([iwc_a500_lid, iwc_a1000_lid], dim=\"time\").mean() / (tot_500 + tot_1000)\n",
    "    both_mean_51 = xr.concat([iwc_a500_both, iwc_a1000_both], dim=\"time\").mean() / (tot_500 + tot_1000)\n",
    "\n",
    "    print(\"{r}, +500m: lidar only={l:.2f}%, both={b:.3f}%\".format(l=lid_frac_500.values*100., b=both_frac_500.values*100., r=region))\n",
    "    print(\"{r}, +500m: lidar only={l:.1e} kg/m3, both={b:.1e} kg/m3\".format(l=lid_mean_500.values, b=both_mean_500.values, r=region))\n",
    "    print(\"{r}, +1000m: lidar only={l:.2f}%, both={b:.3f}%\".format(l=lid_frac_1000.values*100., b=both_frac_1000.values*100., r=region))\n",
    "    print(\"{r}, +1000m: lidar only={l:.1e} kg/m3, both={b:.1e} kg/m3\".format(l=lid_mean_1000.values, b=both_mean_1000.values, r=region))\n",
    "\n",
    "        "
   ]
  },
  {
   "cell_type": "code",
   "execution_count": 7,
   "id": "66c8d28b-64b6-47de-8e80-9a1c0ceadecf",
   "metadata": {},
   "outputs": [
    {
     "name": "stdout",
     "output_type": "stream",
     "text": [
      "AMZ, +500m: lidar only=2.56%, both=0.012%\n",
      "AMZ, +500m: lidar only=1.2e-06 kg/m3, both=4.9e-05 kg/m3\n",
      "AMZ, +1000m: lidar only=0.23%, both=0.001%\n",
      "AMZ, +1000m: lidar only=1.1e-06 kg/m3, both=1.5e-05 kg/m3\n",
      "\n",
      "\n",
      "SPC, +500m: lidar only=2.42%, both=0.040%\n",
      "SPC, +500m: lidar only=1.1e-06 kg/m3, both=5.2e-05 kg/m3\n",
      "SPC, +1000m: lidar only=0.13%, both=0.001%\n",
      "SPC, +1000m: lidar only=8.5e-07 kg/m3, both=5.6e-05 kg/m3\n",
      "\n",
      "\n",
      "ECP, +500m: lidar only=0.41%, both=0.000%\n",
      "ECP, +500m: lidar only=1.1e-06 kg/m3, both=1.7e-05 kg/m3\n",
      "ECP, +1000m: lidar only=0.01%, both=0.000%\n",
      "ECP, +1000m: lidar only=6.0e-07 kg/m3, both=nan kg/m3\n",
      "\n",
      "\n",
      "IOS, +500m: lidar only=0.89%, both=0.016%\n",
      "IOS, +500m: lidar only=1.3e-06 kg/m3, both=7.2e-05 kg/m3\n",
      "IOS, +1000m: lidar only=0.03%, both=0.003%\n",
      "IOS, +1000m: lidar only=1.5e-06 kg/m3, both=2.0e-05 kg/m3\n",
      "\n",
      "\n"
     ]
    }
   ],
   "source": [
    "# DJF\n",
    "for region in region_list:\n",
    "    get_cirrus_stats(ds_dict[region], region, iwc_min=None)\n",
    "    print(\"\\n\")\n"
   ]
  },
  {
   "cell_type": "code",
   "execution_count": 7,
   "id": "079cec41-8e2d-4a98-94e0-562154892e0d",
   "metadata": {},
   "outputs": [
    {
     "name": "stdout",
     "output_type": "stream",
     "text": [
      "AFR, +500m: lidar only=1.32%, both=0.033%\n",
      "AFR, +500m: lidar only=1.8e-06 kg/m3, both=8.6e-05 kg/m3\n",
      "AFR, +1000m: lidar only=0.10%, both=0.004%\n",
      "AFR, +1000m: lidar only=2.3e-06 kg/m3, both=5.9e-05 kg/m3\n",
      "\n",
      "\n",
      "WPC, +500m: lidar only=1.54%, both=0.022%\n",
      "WPC, +500m: lidar only=1.8e-06 kg/m3, both=4.7e-05 kg/m3\n",
      "WPC, +1000m: lidar only=0.08%, both=0.001%\n",
      "WPC, +1000m: lidar only=1.4e-06 kg/m3, both=1.9e-05 kg/m3\n",
      "\n",
      "\n",
      "ECP, +500m: lidar only=0.40%, both=0.002%\n",
      "ECP, +500m: lidar only=1.7e-06 kg/m3, both=4.4e-05 kg/m3\n",
      "ECP, +1000m: lidar only=0.01%, both=0.000%\n",
      "ECP, +1000m: lidar only=1.3e-06 kg/m3, both=3.0e-05 kg/m3\n",
      "\n",
      "\n",
      "IOE, +500m: lidar only=0.57%, both=0.011%\n",
      "IOE, +500m: lidar only=2.2e-06 kg/m3, both=3.6e-05 kg/m3\n",
      "IOE, +1000m: lidar only=0.02%, both=0.000%\n",
      "IOE, +1000m: lidar only=1.5e-06 kg/m3, both=2.0e-05 kg/m3\n",
      "\n",
      "\n"
     ]
    }
   ],
   "source": [
    "# JJA\n",
    "for region in region_list:\n",
    "    get_cirrus_stats(ds_dict[region], region, iwc_min=None)\n",
    "    print(\"\\n\")\n"
   ]
  },
  {
   "cell_type": "code",
   "execution_count": null,
   "id": "b8650d6f-6e61-4b09-9476-3efcf394d957",
   "metadata": {},
   "outputs": [],
   "source": []
  }
 ],
 "metadata": {
  "kernelspec": {
   "display_name": "dyamond2 kernel",
   "language": "python",
   "name": "d2env"
  },
  "language_info": {
   "codemirror_mode": {
    "name": "ipython",
    "version": 3
   },
   "file_extension": ".py",
   "mimetype": "text/x-python",
   "name": "python",
   "nbconvert_exporter": "python",
   "pygments_lexer": "ipython3",
   "version": "3.10.4"
  }
 },
 "nbformat": 4,
 "nbformat_minor": 5
}
